{
  "nbformat": 4,
  "nbformat_minor": 0,
  "metadata": {
    "colab": {
      "name": "1_ExplainerDashboard.ipynb",
      "provenance": [],
      "collapsed_sections": []
    },
    "kernelspec": {
      "display_name": "Python 3",
      "name": "python3"
    }
  },
  "cells": [
    {
      "cell_type": "markdown",
      "metadata": {
        "id": "jmSf70qa41Ut"
      },
      "source": [
        "<a href=\"https://www.inove.com.ar\"><img src=\"https://raw.githubusercontent.com/InoveAlumnos/dataset_analytics_python/master/images/PA%20Banner.png\" width=\"1000\" align=\"center\"></a>\n",
        "\n",
        "\n",
        "# Ejemplo de un python Dashboard exploratorio\n",
        "Este ejemplo se inspiró en la siguiente publicación:\\\n",
        "[Link](https://towardsdatascience.com/explainable-ai-xai-a-guide-to-7-packages-in-python-to-explain-your-models-932967f0634b)\n",
        "\n",
        "v1.1"
      ]
    },
    {
      "cell_type": "code",
      "metadata": {
        "id": "988gHlAOYubf"
      },
      "source": [
        "!pip install datatable -q\n",
        "!pip install explainerdashboard -q"
      ],
      "execution_count": null,
      "outputs": []
    },
    {
      "cell_type": "code",
      "metadata": {
        "colab": {
          "base_uri": "https://localhost:8080/"
        },
        "id": "Ds5CmO1pmrwd",
        "outputId": "d425d2ba-5e51-4bac-a19e-264fcd88fd61"
      },
      "source": [
        "from sklearn.datasets import load_iris\n",
        "from sklearn.ensemble import RandomForestClassifier\n",
        "\n",
        "# Importar el dataset de sklearn\n",
        "data = load_iris() \n",
        "df = pd.DataFrame(data.data, columns=data.feature_names)\n",
        "df['target'] = data.target\n",
        "\n",
        "# Separar X e Y\n",
        "y = df['target'].to_frame()\n",
        "X = df[df.columns.difference(['target'])]\n",
        "X_train, X_test, y_train, y_test = train_test_split(X, y, test_size=0.20, random_state=42)\n",
        "\n",
        "# Construir modelo Randomforest\n",
        "from sklearn.ensemble import RandomForestClassifier\n",
        "clf = RandomForestClassifier(n_estimators=10, max_depth=5, criterion='entropy', random_state = 0)\n",
        "clf.fit(X_train, y_train)\n",
        "\n",
        "# Predecir\n",
        "y_pred = clf.predict(X_test)\n",
        "\n",
        "# Performance\n",
        "accuracy = accuracy_score(y_test, y_pred)\n",
        "print(\"Accuracy: %.2f%%\" % (accuracy * 100.0))"
      ],
      "execution_count": null,
      "outputs": [
        {
          "output_type": "stream",
          "text": [
            "Accuracy: 100.00%\n"
          ],
          "name": "stdout"
        },
        {
          "output_type": "stream",
          "text": [
            "/usr/local/lib/python3.7/dist-packages/ipykernel_launcher.py:17: DataConversionWarning:\n",
            "\n",
            "A column-vector y was passed when a 1d array was expected. Please change the shape of y to (n_samples,), for example using ravel().\n",
            "\n"
          ],
          "name": "stderr"
        }
      ]
    },
    {
      "cell_type": "code",
      "metadata": {
        "colab": {
          "base_uri": "https://localhost:8080/",
          "height": 425
        },
        "id": "L0uIaEdFljph",
        "outputId": "cc4d6d8c-befa-4bb3-dd64-332668b8bf1f"
      },
      "source": [
        "import numpy as np\n",
        "import pandas as pd\n",
        "import xgboost as xgb\n",
        "import datatable as dt\n",
        "from sklearn.metrics import f1_score,confusion_matrix\n",
        "from sklearn.metrics import accuracy_score\n",
        "from sklearn.model_selection import train_test_split\n",
        "import explainerdashboard as expdb\n",
        "from explainerdashboard import ClassifierExplainer, ExplainerDashboard\n",
        "from explainerdashboard import InlineExplainer\n",
        "from explainerdashboard.custom import (ImportancesComposite,\n",
        "                                       IndividualPredictionsComposite,\n",
        "                                       WhatIfComposite,\n",
        "                                       ShapDependenceComposite,\n",
        "                                       ShapInteractionsComposite,\n",
        "                                       DecisionTreesComposite)\n",
        "\n",
        "# Crear el objeto explainer\n",
        "explainer = ClassifierExplainer(clf, X_test, y_test,model_output='logodds')\n",
        "\n",
        "db = ExplainerDashboard(explainer, \n",
        "                        title=\"Breast cancer Explainer\",\n",
        "                        shap_interaction=False,\n",
        "                        )\n",
        "db.run(port=8050)"
      ],
      "execution_count": null,
      "outputs": [
        {
          "output_type": "stream",
          "text": [
            "Detected RandomForestClassifier model: Changing class type to RandomForestClassifierExplainer...\n",
            "Generating self.shap_explainer = shap.TreeExplainer(model)\n",
            "Building ExplainerDashboard..\n",
            "Detected google colab environment, setting mode='external'\n",
            "Generating layout...\n",
            "Calculating shap values...\n",
            "Calculating dependencies...\n",
            "Calculating permutation importances (if slow, try setting n_jobs parameter)...\n",
            "Calculating roc auc curves...\n",
            "Calculating prediction probabilities...\n",
            "Calculating pred_percentiles...\n",
            "Calculating liftcurve_dfs...\n",
            "Calculating classification_dfs...\n",
            "Calculating confusion matrices...\n",
            "Calculating pr auc curves...\n",
            "Calculating predictions...\n",
            "Calculating metrics...\n",
            "Calculating ShadowDecTree for each individual decision tree...\n",
            "Reminder: you can store the explainer (including calculated dependencies) with explainer.dump('explainer.joblib') and reload with e.g. ClassifierExplainer.from_file('explainer.joblib')\n",
            "Registering callbacks...\n",
            "Starting ExplainerDashboard on http://172.28.0.2:8050\n",
            "You can terminate the dashboard with ExplainerDashboard.terminate(8050)\n",
            "Dash app running on:\n"
          ],
          "name": "stdout"
        },
        {
          "output_type": "display_data",
          "data": {
            "application/javascript": [
              "(async (port, path, text, element) => {\n",
              "    if (!google.colab.kernel.accessAllowed) {\n",
              "      return;\n",
              "    }\n",
              "    element.appendChild(document.createTextNode(''));\n",
              "    const url = await google.colab.kernel.proxyPort(port);\n",
              "    const anchor = document.createElement('a');\n",
              "    anchor.href = new URL(path, url).toString();\n",
              "    anchor.target = '_blank';\n",
              "    anchor.setAttribute('data-href', url + path);\n",
              "    anchor.textContent = text;\n",
              "    element.appendChild(anchor);\n",
              "  })(8050, \"/\", \"http://127.0.0.1:8050/\", window.element)"
            ],
            "text/plain": [
              "<IPython.core.display.Javascript object>"
            ]
          },
          "metadata": {
            "tags": []
          }
        }
      ]
    },
    {
      "cell_type": "code",
      "metadata": {
        "colab": {
          "base_uri": "https://localhost:8080/"
        },
        "id": "UE1QSLNWKH_X",
        "outputId": "e46190ce-e583-463d-969c-536dad983252"
      },
      "source": [
        "from sklearn.datasets import load_breast_cancer\n",
        "from sklearn.ensemble import RandomForestClassifier\n",
        "\n",
        "# Importar el dataset de sklearn\n",
        "data = load_breast_cancer() \n",
        "df = pd.DataFrame(data.data, columns=data.feature_names)\n",
        "df['target'] = data.target\n",
        "\n",
        "# Separar X e Y\n",
        "y = df['target'].to_frame()\n",
        "X = df[df.columns.difference(['target'])]\n",
        "X_train, X_test, y_train, y_test = train_test_split(X, y, test_size=0.20, random_state=42)\n",
        "\n",
        "# Construir modelo Randomforest\n",
        "from sklearn.ensemble import RandomForestClassifier\n",
        "clf2 = RandomForestClassifier(n_estimators=10, max_depth=5, criterion='entropy', random_state = 0)\n",
        "clf2.fit(X_train, y_train)\n",
        "\n",
        "# Predecir\n",
        "y_pred = clf2.predict(X_test)\n",
        "\n",
        "# Performance\n",
        "accuracy = accuracy_score(y_test, y_pred)\n",
        "print(\"Accuracy: %.2f%%\" % (accuracy * 100.0))"
      ],
      "execution_count": null,
      "outputs": [
        {
          "output_type": "stream",
          "text": [
            "Accuracy: 96.49%\n"
          ],
          "name": "stdout"
        },
        {
          "output_type": "stream",
          "text": [
            "/usr/local/lib/python3.7/dist-packages/ipykernel_launcher.py:17: DataConversionWarning:\n",
            "\n",
            "A column-vector y was passed when a 1d array was expected. Please change the shape of y to (n_samples,), for example using ravel().\n",
            "\n"
          ],
          "name": "stderr"
        }
      ]
    },
    {
      "cell_type": "code",
      "metadata": {
        "colab": {
          "base_uri": "https://localhost:8080/",
          "height": 34
        },
        "id": "LevFeBRXoawT",
        "outputId": "add2bac1-40b0-4d45-abda-9fa5250f13c7"
      },
      "source": [
        "from google.colab.output import eval_js\n",
        "print(eval_js(\"google.colab.kernel.proxyPort(8050)\"))"
      ],
      "execution_count": null,
      "outputs": [
        {
          "output_type": "stream",
          "text": [
            "https://n9zv8j9gqgh-496ff2e9c6d22116-8050-colab.googleusercontent.com/\n"
          ],
          "name": "stdout"
        }
      ]
    },
    {
      "cell_type": "code",
      "metadata": {
        "colab": {
          "base_uri": "https://localhost:8080/",
          "height": 425
        },
        "id": "OgRn7i3tKCNP",
        "outputId": "ccf40307-0d20-4c4b-e030-9ca96a1e04be"
      },
      "source": [
        "import numpy as np\n",
        "import pandas as pd\n",
        "import xgboost as xgb\n",
        "import datatable as dt\n",
        "from sklearn.metrics import f1_score,confusion_matrix\n",
        "from sklearn.metrics import accuracy_score\n",
        "from sklearn.model_selection import train_test_split\n",
        "import explainerdashboard as expdb\n",
        "from explainerdashboard import ClassifierExplainer, ExplainerDashboard\n",
        "from explainerdashboard import InlineExplainer\n",
        "from explainerdashboard.custom import (ImportancesComposite,\n",
        "                                       IndividualPredictionsComposite,\n",
        "                                       WhatIfComposite,\n",
        "                                       ShapDependenceComposite,\n",
        "                                       ShapInteractionsComposite,\n",
        "                                       DecisionTreesComposite)\n",
        "\n",
        "# Crear el objeto explainer\n",
        "explainer2 = ClassifierExplainer(clf2, X_test, y_test,model_output='logodds')\n",
        "\n",
        "db2 = ExplainerDashboard(explainer2, \n",
        "                        title=\"Breast cancer\",\n",
        "                        shap_interaction=False,\n",
        "                        )\n",
        "db2.run(port=8050)"
      ],
      "execution_count": null,
      "outputs": [
        {
          "output_type": "stream",
          "text": [
            "Detected RandomForestClassifier model: Changing class type to RandomForestClassifierExplainer...\n",
            "Generating self.shap_explainer = shap.TreeExplainer(model)\n",
            "Building ExplainerDashboard..\n",
            "Detected google colab environment, setting mode='external'\n",
            "Generating layout...\n",
            "Calculating shap values...\n",
            "Calculating dependencies...\n",
            "Calculating permutation importances (if slow, try setting n_jobs parameter)...\n",
            "Calculating roc auc curves...\n",
            "Calculating prediction probabilities...\n",
            "Calculating pred_percentiles...\n",
            "Calculating liftcurve_dfs...\n",
            "Calculating classification_dfs...\n",
            "Calculating confusion matrices...\n",
            "Calculating pr auc curves...\n",
            "Calculating predictions...\n",
            "Calculating metrics...\n",
            "Calculating ShadowDecTree for each individual decision tree...\n",
            "Reminder: you can store the explainer (including calculated dependencies) with explainer.dump('explainer.joblib') and reload with e.g. ClassifierExplainer.from_file('explainer.joblib')\n",
            "Registering callbacks...\n",
            "Starting ExplainerDashboard on http://172.28.0.2:8050\n",
            "You can terminate the dashboard with ExplainerDashboard.terminate(8050)\n",
            "Dash app running on:\n"
          ],
          "name": "stdout"
        },
        {
          "output_type": "display_data",
          "data": {
            "application/javascript": [
              "(async (port, path, text, element) => {\n",
              "    if (!google.colab.kernel.accessAllowed) {\n",
              "      return;\n",
              "    }\n",
              "    element.appendChild(document.createTextNode(''));\n",
              "    const url = await google.colab.kernel.proxyPort(port);\n",
              "    const anchor = document.createElement('a');\n",
              "    anchor.href = new URL(path, url).toString();\n",
              "    anchor.target = '_blank';\n",
              "    anchor.setAttribute('data-href', url + path);\n",
              "    anchor.textContent = text;\n",
              "    element.appendChild(anchor);\n",
              "  })(8050, \"/\", \"http://127.0.0.1:8050/\", window.element)"
            ],
            "text/plain": [
              "<IPython.core.display.Javascript object>"
            ]
          },
          "metadata": {
            "tags": []
          }
        }
      ]
    }
  ]
}